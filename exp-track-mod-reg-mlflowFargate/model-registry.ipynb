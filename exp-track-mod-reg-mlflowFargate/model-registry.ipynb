{
 "cells": [
  {
   "cell_type": "markdown",
   "metadata": {},
   "source": [
    "## MLflow's Model Registry \n",
    "(Unnecessary to rerun it cause the versions were choosen manually looking at mlflow so if it is run again new versions will be created pointlesly)\n",
    "To run this you need to launch the mlflow server in Fargate with the corresponding Github action."
   ]
  },
  {
   "cell_type": "code",
   "execution_count": 1,
   "metadata": {},
   "outputs": [],
   "source": [
    "Fargate_tracking_uri = \"http://mlflo-mlflo-1t73jy0dxw3bw-f2c1f1638afa4ab6.elb.eu-central-1.amazonaws.com/\""
   ]
  },
  {
   "cell_type": "code",
   "execution_count": 2,
   "metadata": {},
   "outputs": [
    {
     "name": "stdout",
     "output_type": "stream",
     "text": [
      "tracking URI: 'http://mlflo-mlflo-1t73jy0dxw3bw-f2c1f1638afa4ab6.elb.eu-central-1.amazonaws.com/'\n"
     ]
    }
   ],
   "source": [
    "import mlflow\n",
    "mlflow.set_tracking_uri(Fargate_tracking_uri)#NOTE: Important!!!  tput the \"http://\" at the beginning or it will not work properly\n",
    "#NOTE: Important!!!  to set the tracking uri here cause otherwise it stores the artifact locally. \n",
    "#NOTE: Important!!! The uri wil change every time you start the tracking server on Fargate so you have to change it every time\n",
    "print(f\"tracking URI: '{mlflow.get_tracking_uri()}'\")"
   ]
  },
  {
   "cell_type": "code",
   "execution_count": 4,
   "metadata": {},
   "outputs": [
    {
     "data": {
      "text/plain": [
       "[<Experiment: artifact_location='s3://34aghxe-mlflow-server-artifacts-141507290110/3', creation_time=1670176563970, experiment_id='3', last_update_time=1670176563970, lifecycle_stage='active', name='experiment-covid-2', tags={}>,\n",
       " <Experiment: artifact_location='s3://34aghxe-mlflow-server-artifacts-141507290110/2', creation_time=1670176453890, experiment_id='2', last_update_time=1670176453890, lifecycle_stage='active', name='experiment-covid-3', tags={}>,\n",
       " <Experiment: artifact_location='s3://34aghxe-mlflow-server-artifacts-141507290110/1', creation_time=1670176225608, experiment_id='1', last_update_time=1670176225608, lifecycle_stage='active', name='my-experimenta', tags={}>,\n",
       " <Experiment: artifact_location='s3://34aghxe-mlflow-server-artifacts-141507290110/0', creation_time=1670175501589, experiment_id='0', last_update_time=1670175501589, lifecycle_stage='active', name='Default', tags={}>]"
      ]
     },
     "execution_count": 4,
     "metadata": {},
     "output_type": "execute_result"
    }
   ],
   "source": [
    "from  mlflow.tracking import MlflowClient\n",
    "client = MlflowClient()\n",
    "experiments = client.search_experiments() # returns a list of mlflow.entities.Experiment\n",
    "experiments"
   ]
  },
  {
   "cell_type": "markdown",
   "metadata": {},
   "source": [
    "Let's check the latest versions for the experiment with id `2`..."
   ]
  },
  {
   "cell_type": "code",
   "execution_count": 5,
   "metadata": {},
   "outputs": [],
   "source": [
    "from mlflow.entities import ViewType\n",
    "\n",
    "runs = client.search_runs(\n",
    "    experiment_ids='2',\n",
    "    # name='experiment-covid-1',\n",
    "    # filter_string=\"metrics.rmse < 7\",\n",
    "    run_view_type=ViewType.ACTIVE_ONLY,\n",
    "    max_results=5,\n",
    "    order_by=[\"metric.evaluated_RMSE\"]\n",
    ")"
   ]
  },
  {
   "cell_type": "code",
   "execution_count": 6,
   "metadata": {},
   "outputs": [
    {
     "name": "stdout",
     "output_type": "stream",
     "text": [
      "run id: 0c2df617d52d47a08f3f840daffc19a9, rmse: 0.1706\n"
     ]
    }
   ],
   "source": [
    "for run in runs:\n",
    "    print(f\"run id: {run.info.run_id}, rmse: {run.data.metrics['evaluated_RMSE']:.4f}\")"
   ]
  },
  {
   "cell_type": "markdown",
   "metadata": {},
   "source": [
    "Comparing the experiments in mlflow the first one has less evaluated RSME so I will choose that model => RUNID = 0c2df617d52d47a08f3f840daffc19a9"
   ]
  },
  {
   "cell_type": "markdown",
   "metadata": {},
   "source": []
  },
  {
   "cell_type": "markdown",
   "metadata": {},
   "source": [
    "### Interacting with the Model Registry\n",
    "\n",
    "In this section I will use the `MlflowClient` instance to:\n",
    "\n",
    "1. Register a new version for the experiment `experiment-covid-2`\n",
    "2. Retrieve the latests versions of the model `covid-predictor` and check that a new version was created.\n"
   ]
  },
  {
   "cell_type": "code",
   "execution_count": 5,
   "metadata": {},
   "outputs": [],
   "source": [
    "#NOTE: this is commented because only necessary if not done previous task of the notebook before\n",
    "# import mlflow\n",
    "# mlflow.set_tracking_uri(Fargate_tracking_uri)"
   ]
  },
  {
   "cell_type": "code",
   "execution_count": 7,
   "metadata": {},
   "outputs": [
    {
     "name": "stderr",
     "output_type": "stream",
     "text": [
      "Successfully registered model 'covid-predictor'.\n",
      "2022/12/04 19:07:46 INFO mlflow.tracking._model_registry.client: Waiting up to 300 seconds for model version to finish creation.                     Model name: covid-predictor, version 1\n",
      "Created version '1' of model 'covid-predictor'.\n"
     ]
    },
    {
     "data": {
      "text/plain": [
       "<ModelVersion: creation_timestamp=1670177265606, current_stage='None', description='', last_updated_timestamp=1670177265606, name='covid-predictor', run_id='0c2df617d52d47a08f3f840daffc19a9', run_link='', source='s3://34aghxe-mlflow-server-artifacts-141507290110/2/0c2df617d52d47a08f3f840daffc19a9/artifacts/model', status='READY', status_message='', tags={}, user_id='', version='1'>"
      ]
     },
     "execution_count": 7,
     "metadata": {},
     "output_type": "execute_result"
    }
   ],
   "source": [
    "run_id = \"0c2df617d52d47a08f3f840daffc19a9\" #This is not the run_id that will be chosen but it is to test that we can set it on stage \"Archived\"\n",
    "model_uri = f\"runs:/{run_id}/model\"\n",
    "mlflow.register_model(model_uri=model_uri, name=\"covid-predictor\") #this is to register/create a new version of the model"
   ]
  },
  {
   "cell_type": "code",
   "execution_count": 8,
   "metadata": {},
   "outputs": [
    {
     "data": {
      "text/plain": [
       "'runs:/0c2df617d52d47a08f3f840daffc19a9/model'"
      ]
     },
     "execution_count": 8,
     "metadata": {},
     "output_type": "execute_result"
    }
   ],
   "source": [
    "model_uri"
   ]
  },
  {
   "cell_type": "code",
   "execution_count": 9,
   "metadata": {},
   "outputs": [
    {
     "name": "stdout",
     "output_type": "stream",
     "text": [
      "version: 1, stage: None\n"
     ]
    }
   ],
   "source": [
    "model_name = \"covid-predictor\"\n",
    "latest_versions = client.get_latest_versions(name=model_name)\n",
    "\n",
    "for version in latest_versions:\n",
    "    print(f\"version: {version.version}, stage: {version.current_stage}\")"
   ]
  },
  {
   "cell_type": "code",
   "execution_count": 10,
   "metadata": {},
   "outputs": [
    {
     "data": {
      "text/plain": [
       "<ModelVersion: creation_timestamp=1670177265606, current_stage='Staging', description='', last_updated_timestamp=1670177352779, name='covid-predictor', run_id='0c2df617d52d47a08f3f840daffc19a9', run_link='', source='s3://34aghxe-mlflow-server-artifacts-141507290110/2/0c2df617d52d47a08f3f840daffc19a9/artifacts/model', status='READY', status_message='', tags={}, user_id='', version='1'>"
      ]
     },
     "execution_count": 10,
     "metadata": {},
     "output_type": "execute_result"
    }
   ],
   "source": [
    "model_version = 1\n",
    "new_stage = \"Staging\"\n",
    "client.transition_model_version_stage(\n",
    "    name=model_name,\n",
    "    version=model_version,\n",
    "    stage=new_stage,\n",
    "    archive_existing_versions=False\n",
    ")"
   ]
  },
  {
   "cell_type": "code",
   "execution_count": 11,
   "metadata": {},
   "outputs": [
    {
     "name": "stdout",
     "output_type": "stream",
     "text": [
      "version: 1, stage: Staging\n"
     ]
    }
   ],
   "source": [
    "model_name = \"covid-predictor\"\n",
    "latest_versions = client.get_latest_versions(name=model_name)\n",
    "\n",
    "for version in latest_versions:\n",
    "    print(f\"version: {version.version}, stage: {version.current_stage}\")"
   ]
  },
  {
   "cell_type": "markdown",
   "metadata": {},
   "source": [
    "#### Now we register the model that we want to use and set it in stage Production"
   ]
  },
  {
   "cell_type": "code",
   "execution_count": 12,
   "metadata": {},
   "outputs": [
    {
     "name": "stderr",
     "output_type": "stream",
     "text": [
      "Registered model 'covid-predictor' already exists. Creating a new version of this model...\n",
      "2022/12/04 19:10:43 INFO mlflow.tracking._model_registry.client: Waiting up to 300 seconds for model version to finish creation.                     Model name: covid-predictor, version 2\n",
      "Created version '2' of model 'covid-predictor'.\n"
     ]
    },
    {
     "data": {
      "text/plain": [
       "<ModelVersion: creation_timestamp=1670177442560, current_stage='None', description='', last_updated_timestamp=1670177442560, name='covid-predictor', run_id='6509bec6c96d4f9d8e1b88c0812e1590', run_link='', source='s3://34aghxe-mlflow-server-artifacts-141507290110/3/6509bec6c96d4f9d8e1b88c0812e1590/artifacts/model', status='READY', status_message='', tags={}, user_id='', version='2'>"
      ]
     },
     "execution_count": 12,
     "metadata": {},
     "output_type": "execute_result"
    }
   ],
   "source": [
    "run_id = \"6509bec6c96d4f9d8e1b88c0812e1590\" #This is not the run_id that will be chosen but it is to test that we can set it on stage \"Archived\"\n",
    "model_uri = f\"runs:/{run_id}/model\"\n",
    "mlflow.register_model(model_uri=model_uri, name=\"covid-predictor\") #this is to register/create a new version of the model"
   ]
  },
  {
   "cell_type": "code",
   "execution_count": 13,
   "metadata": {},
   "outputs": [
    {
     "name": "stdout",
     "output_type": "stream",
     "text": [
      "version: 1, stage: Staging\n",
      "version: 2, stage: None\n"
     ]
    }
   ],
   "source": [
    "model_name = \"covid-predictor\"\n",
    "latest_versions = client.get_latest_versions(name=model_name)\n",
    "\n",
    "for version in latest_versions:\n",
    "    print(f\"version: {version.version}, stage: {version.current_stage}\")"
   ]
  },
  {
   "cell_type": "code",
   "execution_count": 14,
   "metadata": {},
   "outputs": [
    {
     "data": {
      "text/plain": [
       "<ModelVersion: creation_timestamp=1670177442560, current_stage='Production', description='', last_updated_timestamp=1670177457610, name='covid-predictor', run_id='6509bec6c96d4f9d8e1b88c0812e1590', run_link='', source='s3://34aghxe-mlflow-server-artifacts-141507290110/3/6509bec6c96d4f9d8e1b88c0812e1590/artifacts/model', status='READY', status_message='', tags={}, user_id='', version='2'>"
      ]
     },
     "execution_count": 14,
     "metadata": {},
     "output_type": "execute_result"
    }
   ],
   "source": [
    "model_version = 2\n",
    "new_stage = \"Production\"\n",
    "client.transition_model_version_stage(\n",
    "    name=model_name,\n",
    "    version=model_version,\n",
    "    stage=new_stage,\n",
    "    archive_existing_versions=False\n",
    ")"
   ]
  },
  {
   "cell_type": "code",
   "execution_count": 15,
   "metadata": {},
   "outputs": [
    {
     "name": "stdout",
     "output_type": "stream",
     "text": [
      "version: 1, stage: Staging\n",
      "version: 2, stage: Production\n"
     ]
    }
   ],
   "source": [
    "model_name = \"covid-predictor\"\n",
    "latest_versions = client.get_latest_versions(name=model_name)\n",
    "\n",
    "for version in latest_versions:\n",
    "    print(f\"version: {version.version}, stage: {version.current_stage}\")"
   ]
  },
  {
   "cell_type": "code",
   "execution_count": 16,
   "metadata": {},
   "outputs": [
    {
     "data": {
      "text/plain": [
       "<ModelVersion: creation_timestamp=1670177442560, current_stage='Production', description='Jrv_note: The model version 2 was transitioned to Production on 2022-12-04', last_updated_timestamp=1670177481721, name='covid-predictor', run_id='6509bec6c96d4f9d8e1b88c0812e1590', run_link='', source='s3://34aghxe-mlflow-server-artifacts-141507290110/3/6509bec6c96d4f9d8e1b88c0812e1590/artifacts/model', status='READY', status_message='', tags={}, user_id='', version='2'>"
      ]
     },
     "execution_count": 16,
     "metadata": {},
     "output_type": "execute_result"
    }
   ],
   "source": [
    "from datetime import datetime\n",
    "\n",
    "date = datetime.today().date()\n",
    "client.update_model_version(\n",
    "    name=model_name,\n",
    "    version=model_version,\n",
    "    description=f\"Jrv_note: The model version {model_version} was transitioned to {new_stage} on {date}\"\n",
    ")"
   ]
  },
  {
   "cell_type": "markdown",
   "metadata": {},
   "source": [
    "### Comparing versions and selecting the new \"Production\" model\n",
    "\n",
    "In the last section, we will retrieve models registered in the model registry and compare their performance on an unseen test set. The idea is to simulate the scenario in which a deployment engineer has to interact with the model registry to decide whether to update the model version that is in production or not.\n",
    "\n",
    "These are the steps:\n",
    "\n",
    "1. Download the model \n",
    "2. Test that the model works, make predictions and also check the rmse is low Load the test dataset, which corresponds to the last 7 days.\n",
    "3. Download the model that was fitted using the training data and saved to MLflow as an artifact, and load it with pickle.\n",
    "\n",
    "**Note: the model registry doesn't actually deploy the model to production when you transition a model to the \"Production\" stage, it just assign a label to that model version. You should complement the registry with some CI/CD code that does the actual deployment.**"
   ]
  },
  {
   "cell_type": "code",
   "execution_count": 17,
   "metadata": {},
   "outputs": [
    {
     "name": "stderr",
     "output_type": "stream",
     "text": [
      "C:\\Users\\jraldua-veuthey\\AppData\\Local\\Temp\\ipykernel_4804\\883153170.py:3: FutureWarning: ``mlflow.tracking.client.MlflowClient.download_artifacts`` is deprecated since 2.0. This method will be removed in a future release. Use ``mlflow.artifacts.download_artifacts`` instead.\n",
      "  client.download_artifacts(run_id=run_id, path='models', dst_path='.')\n"
     ]
    },
    {
     "data": {
      "text/plain": [
       "'c:\\\\Users\\\\jraldua-veuthey\\\\Documents\\\\Github_NoPycharm\\\\mlops-covid\\\\exp-track-mod-reg-mlflowFargate\\\\models'"
      ]
     },
     "execution_count": 17,
     "metadata": {},
     "output_type": "execute_result"
    }
   ],
   "source": [
    "#Download model \n",
    "run_id = \"6509bec6c96d4f9d8e1b88c0812e1590\" \n",
    "client.download_artifacts(run_id=run_id, path='models', dst_path='.')"
   ]
  },
  {
   "cell_type": "code",
   "execution_count": 18,
   "metadata": {},
   "outputs": [],
   "source": [
    "import pickle\n",
    "\n",
    "with open(\"models/model.pkl\", \"rb\") as f_in:\n",
    "    model = pickle.load(f_in)"
   ]
  },
  {
   "cell_type": "code",
   "execution_count": 19,
   "metadata": {},
   "outputs": [
    {
     "data": {
      "text/html": [
       "<style>#sk-container-id-1 {color: black;background-color: white;}#sk-container-id-1 pre{padding: 0;}#sk-container-id-1 div.sk-toggleable {background-color: white;}#sk-container-id-1 label.sk-toggleable__label {cursor: pointer;display: block;width: 100%;margin-bottom: 0;padding: 0.3em;box-sizing: border-box;text-align: center;}#sk-container-id-1 label.sk-toggleable__label-arrow:before {content: \"▸\";float: left;margin-right: 0.25em;color: #696969;}#sk-container-id-1 label.sk-toggleable__label-arrow:hover:before {color: black;}#sk-container-id-1 div.sk-estimator:hover label.sk-toggleable__label-arrow:before {color: black;}#sk-container-id-1 div.sk-toggleable__content {max-height: 0;max-width: 0;overflow: hidden;text-align: left;background-color: #f0f8ff;}#sk-container-id-1 div.sk-toggleable__content pre {margin: 0.2em;color: black;border-radius: 0.25em;background-color: #f0f8ff;}#sk-container-id-1 input.sk-toggleable__control:checked~div.sk-toggleable__content {max-height: 200px;max-width: 100%;overflow: auto;}#sk-container-id-1 input.sk-toggleable__control:checked~label.sk-toggleable__label-arrow:before {content: \"▾\";}#sk-container-id-1 div.sk-estimator input.sk-toggleable__control:checked~label.sk-toggleable__label {background-color: #d4ebff;}#sk-container-id-1 div.sk-label input.sk-toggleable__control:checked~label.sk-toggleable__label {background-color: #d4ebff;}#sk-container-id-1 input.sk-hidden--visually {border: 0;clip: rect(1px 1px 1px 1px);clip: rect(1px, 1px, 1px, 1px);height: 1px;margin: -1px;overflow: hidden;padding: 0;position: absolute;width: 1px;}#sk-container-id-1 div.sk-estimator {font-family: monospace;background-color: #f0f8ff;border: 1px dotted black;border-radius: 0.25em;box-sizing: border-box;margin-bottom: 0.5em;}#sk-container-id-1 div.sk-estimator:hover {background-color: #d4ebff;}#sk-container-id-1 div.sk-parallel-item::after {content: \"\";width: 100%;border-bottom: 1px solid gray;flex-grow: 1;}#sk-container-id-1 div.sk-label:hover label.sk-toggleable__label {background-color: #d4ebff;}#sk-container-id-1 div.sk-serial::before {content: \"\";position: absolute;border-left: 1px solid gray;box-sizing: border-box;top: 0;bottom: 0;left: 50%;z-index: 0;}#sk-container-id-1 div.sk-serial {display: flex;flex-direction: column;align-items: center;background-color: white;padding-right: 0.2em;padding-left: 0.2em;position: relative;}#sk-container-id-1 div.sk-item {position: relative;z-index: 1;}#sk-container-id-1 div.sk-parallel {display: flex;align-items: stretch;justify-content: center;background-color: white;position: relative;}#sk-container-id-1 div.sk-item::before, #sk-container-id-1 div.sk-parallel-item::before {content: \"\";position: absolute;border-left: 1px solid gray;box-sizing: border-box;top: 0;bottom: 0;left: 50%;z-index: -1;}#sk-container-id-1 div.sk-parallel-item {display: flex;flex-direction: column;z-index: 1;position: relative;background-color: white;}#sk-container-id-1 div.sk-parallel-item:first-child::after {align-self: flex-end;width: 50%;}#sk-container-id-1 div.sk-parallel-item:last-child::after {align-self: flex-start;width: 50%;}#sk-container-id-1 div.sk-parallel-item:only-child::after {width: 0;}#sk-container-id-1 div.sk-dashed-wrapped {border: 1px dashed gray;margin: 0 0.4em 0.5em 0.4em;box-sizing: border-box;padding-bottom: 0.4em;background-color: white;}#sk-container-id-1 div.sk-label label {font-family: monospace;font-weight: bold;display: inline-block;line-height: 1.2em;}#sk-container-id-1 div.sk-label-container {text-align: center;}#sk-container-id-1 div.sk-container {/* jupyter's `normalize.less` sets `[hidden] { display: none; }` but bootstrap.min.css set `[hidden] { display: none !important; }` so we also need the `!important` here to be able to override the default hidden behavior on the sphinx rendered scikit-learn.org. See: https://github.com/scikit-learn/scikit-learn/issues/21755 */display: inline-block !important;position: relative;}#sk-container-id-1 div.sk-text-repr-fallback {display: none;}</style><div id=\"sk-container-id-1\" class=\"sk-top-container\"><div class=\"sk-text-repr-fallback\"><pre>Pipeline(steps=[(&#x27;poly&#x27;, PolynomialFeatures(degree=3, include_bias=False)),\n",
       "                (&#x27;linear&#x27;, LinearRegression())])</pre><b>In a Jupyter environment, please rerun this cell to show the HTML representation or trust the notebook. <br />On GitHub, the HTML representation is unable to render, please try loading this page with nbviewer.org.</b></div><div class=\"sk-container\" hidden><div class=\"sk-item sk-dashed-wrapped\"><div class=\"sk-label-container\"><div class=\"sk-label sk-toggleable\"><input class=\"sk-toggleable__control sk-hidden--visually\" id=\"sk-estimator-id-1\" type=\"checkbox\" ><label for=\"sk-estimator-id-1\" class=\"sk-toggleable__label sk-toggleable__label-arrow\">Pipeline</label><div class=\"sk-toggleable__content\"><pre>Pipeline(steps=[(&#x27;poly&#x27;, PolynomialFeatures(degree=3, include_bias=False)),\n",
       "                (&#x27;linear&#x27;, LinearRegression())])</pre></div></div></div><div class=\"sk-serial\"><div class=\"sk-item\"><div class=\"sk-estimator sk-toggleable\"><input class=\"sk-toggleable__control sk-hidden--visually\" id=\"sk-estimator-id-2\" type=\"checkbox\" ><label for=\"sk-estimator-id-2\" class=\"sk-toggleable__label sk-toggleable__label-arrow\">PolynomialFeatures</label><div class=\"sk-toggleable__content\"><pre>PolynomialFeatures(degree=3, include_bias=False)</pre></div></div></div><div class=\"sk-item\"><div class=\"sk-estimator sk-toggleable\"><input class=\"sk-toggleable__control sk-hidden--visually\" id=\"sk-estimator-id-3\" type=\"checkbox\" ><label for=\"sk-estimator-id-3\" class=\"sk-toggleable__label sk-toggleable__label-arrow\">LinearRegression</label><div class=\"sk-toggleable__content\"><pre>LinearRegression()</pre></div></div></div></div></div></div></div>"
      ],
      "text/plain": [
       "Pipeline(steps=[('poly', PolynomialFeatures(degree=3, include_bias=False)),\n",
       "                ('linear', LinearRegression())])"
      ]
     },
     "execution_count": 19,
     "metadata": {},
     "output_type": "execute_result"
    }
   ],
   "source": [
    "model"
   ]
  },
  {
   "cell_type": "code",
   "execution_count": 20,
   "metadata": {},
   "outputs": [],
   "source": [
    "from sklearn.metrics import mean_squared_error\n",
    "import pandas as pd\n",
    "import numpy as np\n",
    "from datetime import timedelta, datetime\n",
    "from pandas._libs.tslibs.timestamps import Timestamp\n",
    "\n",
    "TARGETS = [\"ConfirmedCases\", \"Fatalities\"]\n",
    "features = [\"prev_{}\".format(col) for col in TARGETS]\n",
    "loc_group = [\"Province_State\", \"Country_Region\"]\n",
    "\n",
    "def preprocess(df):\n",
    "    df[\"Date\"] = df[\"Date\"].astype(\"datetime64[ms]\")\n",
    "    for col in loc_group:\n",
    "        df[col].fillna(\"none\", inplace=True) #NOTE: replace all NaN with none  \n",
    "    for col in TARGETS:\n",
    "        df[col] = np.log1p(df[col]) \n",
    "    for col in TARGETS:\n",
    "        df[\"prev_{}\".format(col)] = df.groupby(loc_group)[col].shift() #NOTE: the prev_ columns basically has the same than the others but delayed one day\n",
    "    return df\n",
    "\n",
    "def get_data_last_days(num_days): #gets the data from the last \"num_days\" days\n",
    "    num_days = num_days + 2 #I do this because I get rid of the first date since it has NaNs in the columns prev_ConfirmedCases\tprev_Fatalities and because of the for loop with range\n",
    "    dfs = []  # empty list which will hold your dataframes\n",
    "    for d in range(1, num_days): #NOTE: do the same that has been done for the first day but for the whole period\n",
    "        date = datetime.now() - timedelta(days=d)\n",
    "        date_str = date.strftime(\"%m-%d-%Y\")\n",
    "        source_url = 'https://raw.githubusercontent.com/CSSEGISandData/COVID-19/master/csse_covid_19_data/csse_covid_19_daily_reports/' + date_str + '.csv'\n",
    "        df_temp = pd.read_csv(source_url)\n",
    "        df_temp.rename(columns={\"Last_Update\": \"Date\"}, inplace=True) #Renane dataframe column from \"Last_Update\" to \"Date\"\n",
    "        df_temp_2 = df_temp[[\"Admin2\", \"Province_State\", \"Country_Region\",\"Confirmed\", \"Deaths\"]].copy() #TODO: consider also other columns in future versions like Recovered,Active,Combined_Key,Incident_Rate,Case_Fatality_Ratio\n",
    "        df_temp_2.loc[:,\"Date\"] = date.strftime(\"%Y-%m-%d\") \n",
    "        dfs.append(df_temp_2)  # append dataframe to list\n",
    "    res = pd.concat(dfs, ignore_index=True)  # concatenate list of dataframes\n",
    "    \n",
    "    # group by Country_Region and sum Confirmed and Deaths\n",
    "    df = res.groupby(['Province_State','Country_Region','Date']).agg({'Confirmed':'sum', 'Deaths':'sum'})\n",
    "    df.reset_index(inplace=True)\n",
    "    df.rename(columns={\"Confirmed\": \"ConfirmedCases\", \"Deaths\": \"Fatalities\"}, inplace=True)\n",
    "        \n",
    "    df = preprocess(df)\n",
    "    \n",
    "    df = df[df[\"Date\"] > df[\"Date\"].min()].copy() #removes the first day since it has NaNs in the \"prev\" columns\n",
    "\n",
    "    df.reset_index(inplace=True, drop=True)\n",
    "    \n",
    "    return df\n",
    "\n",
    "def predict_today_Province_State(model,Province_State):\n",
    "    df = get_data_last_days(1) #Get data from yesterday\n",
    "    y_pred = predict_today_world(model) #Predict today worldwide\n",
    "    index_PS = df[df['Province_State']==Province_State].iloc[0].name\n",
    "    predictions = y_pred[index_PS]\n",
    "    return predictions #First the predicted Confirmed cases and second the predicted fatalities\n",
    "\n",
    "def predict_today_world(model):#Does the prediction for today\n",
    "    df = get_data_last_days(1) #Get data from yesterday\n",
    "    yesterday = datetime.now() - timedelta(days=1)\n",
    "    yesterday = yesterday.replace(hour=0, minute=0, second=0, microsecond=0)\n",
    "    yesterday = Timestamp(yesterday)\n",
    "    y_pred = np.clip(model.predict(df.loc[df[\"Date\"] == yesterday][features]), None, 16)#NOTE: here predicting the targets for the first day and saturating (clip) them with max=16\n",
    "    return y_pred\n",
    "\n",
    "\n",
    "def evaluate_yesterday():\n",
    "    return evaluate_last_days(1)\n",
    "\n",
    "def rmse(y_true, y_pred):\n",
    "    return np.sqrt(mean_squared_error(y_true, y_pred))\n",
    "\n",
    "def predict_past(model, num_days):\n",
    "    test_df = get_data_last_days(num_days)\n",
    "    first_day = datetime.now() - timedelta(days=num_days)\n",
    "    first_day = first_day.replace(hour=0, minute=0, second=0, microsecond=0)\n",
    "    first_day = Timestamp(first_day)\n",
    "    y_pred = np.clip(model.predict(test_df.loc[test_df[\"Date\"] == first_day][features]), None, 16)#NOTE: here he is predicting the targets for the first day and saturating (clip) them with max=16\n",
    " \n",
    "    for i, col in enumerate(TARGETS):\n",
    "        test_df[\"pred_{}\".format(col)] = 0\n",
    "        test_df.loc[test_df[\"Date\"] == first_day, \"pred_{}\".format(col)] = y_pred[:, i] #NOTE: here he sets the predicted columns\n",
    "\n",
    "    for d in range(1, num_days): #NOTE: do the same that has been done for the first day but for the whole period\n",
    "        y_pred = np.clip(model.predict(y_pred), None, 16)\n",
    "        date = first_day + timedelta(days=d)\n",
    "\n",
    "    for i, col in enumerate(TARGETS):\n",
    "        test_df.loc[test_df[\"Date\"] == date, \"pred_{}\".format(col)] = y_pred[:, i]\n",
    "\n",
    "    return test_df\n",
    "\n",
    "def evaluate_last_days(model,num_days):\n",
    "    #get data from the last \"num_days\" days\n",
    "    df = predict_past(model,num_days)\n",
    "    \n",
    "    #get the rmse\n",
    "    error = 0\n",
    "    for col in TARGETS:\n",
    "        error += rmse(df[col].values, df[\"pred_{}\".format(col)].values) #NOTE: checks the error between the predicted columns and the target columns\n",
    "    return np.round(error/len(TARGETS), 5)\n"
   ]
  },
  {
   "cell_type": "code",
   "execution_count": 21,
   "metadata": {},
   "outputs": [
    {
     "name": "stderr",
     "output_type": "stream",
     "text": [
      "c:\\Users\\jraldua-veuthey\\.virtualenvs\\mlops-covid-0dX7y8J5\\lib\\site-packages\\sklearn\\base.py:450: UserWarning: X does not have valid feature names, but PolynomialFeatures was fitted with feature names\n",
      "  warnings.warn(\n",
      "c:\\Users\\jraldua-veuthey\\.virtualenvs\\mlops-covid-0dX7y8J5\\lib\\site-packages\\sklearn\\base.py:450: UserWarning: X does not have valid feature names, but PolynomialFeatures was fitted with feature names\n",
      "  warnings.warn(\n",
      "c:\\Users\\jraldua-veuthey\\.virtualenvs\\mlops-covid-0dX7y8J5\\lib\\site-packages\\sklearn\\base.py:450: UserWarning: X does not have valid feature names, but PolynomialFeatures was fitted with feature names\n",
      "  warnings.warn(\n",
      "c:\\Users\\jraldua-veuthey\\.virtualenvs\\mlops-covid-0dX7y8J5\\lib\\site-packages\\sklearn\\base.py:450: UserWarning: X does not have valid feature names, but PolynomialFeatures was fitted with feature names\n",
      "  warnings.warn(\n"
     ]
    },
    {
     "data": {
      "text/plain": [
       "7.6173"
      ]
     },
     "execution_count": 21,
     "metadata": {},
     "output_type": "execute_result"
    }
   ],
   "source": [
    "evaluate_last_days(model,5)"
   ]
  },
  {
   "cell_type": "code",
   "execution_count": 22,
   "metadata": {},
   "outputs": [
    {
     "data": {
      "text/plain": [
       "array([14.49384131,  9.90338004])"
      ]
     },
     "execution_count": 22,
     "metadata": {},
     "output_type": "execute_result"
    }
   ],
   "source": [
    "predict_today_Province_State(model,'Madrid')"
   ]
  },
  {
   "cell_type": "code",
   "execution_count": 23,
   "metadata": {},
   "outputs": [
    {
     "data": {
      "text/html": [
       "<div>\n",
       "<style scoped>\n",
       "    .dataframe tbody tr th:only-of-type {\n",
       "        vertical-align: middle;\n",
       "    }\n",
       "\n",
       "    .dataframe tbody tr th {\n",
       "        vertical-align: top;\n",
       "    }\n",
       "\n",
       "    .dataframe thead th {\n",
       "        text-align: right;\n",
       "    }\n",
       "</style>\n",
       "<table border=\"1\" class=\"dataframe\">\n",
       "  <thead>\n",
       "    <tr style=\"text-align: right;\">\n",
       "      <th></th>\n",
       "      <th>pred_ConfirmedCases</th>\n",
       "      <th>pred_Fatalities</th>\n",
       "    </tr>\n",
       "  </thead>\n",
       "  <tbody>\n",
       "    <tr>\n",
       "      <th>0</th>\n",
       "      <td>14.493841</td>\n",
       "      <td>9.90338</td>\n",
       "    </tr>\n",
       "  </tbody>\n",
       "</table>\n",
       "</div>"
      ],
      "text/plain": [
       "   pred_ConfirmedCases  pred_Fatalities\n",
       "0            14.493841          9.90338"
      ]
     },
     "execution_count": 23,
     "metadata": {},
     "output_type": "execute_result"
    }
   ],
   "source": [
    "ans = predict_today_Province_State(model,'Madrid')\n",
    "df_ans = pd.DataFrame()\n",
    "df_ans['pred_ConfirmedCases']=pd.Series(ans[0])\n",
    "df_ans['pred_Fatalities']=pd.Series(ans[1])\n",
    "df_ans"
   ]
  },
  {
   "cell_type": "code",
   "execution_count": 24,
   "metadata": {},
   "outputs": [
    {
     "data": {
      "text/plain": [
       "'covid-predictor'"
      ]
     },
     "execution_count": 24,
     "metadata": {},
     "output_type": "execute_result"
    }
   ],
   "source": [
    "model_name"
   ]
  },
  {
   "cell_type": "markdown",
   "metadata": {},
   "source": [
    "Based on the results, the model that is currently on \"Production\" works fine (has low RMSE) so no need to change stage"
   ]
  }
 ],
 "metadata": {
  "kernelspec": {
   "display_name": "Python 3.10.0 ('mlops-covid-0dX7y8J5')",
   "language": "python",
   "name": "python3"
  },
  "language_info": {
   "codemirror_mode": {
    "name": "ipython",
    "version": 3
   },
   "file_extension": ".py",
   "mimetype": "text/x-python",
   "name": "python",
   "nbconvert_exporter": "python",
   "pygments_lexer": "ipython3",
   "version": "3.10.0"
  },
  "orig_nbformat": 4,
  "vscode": {
   "interpreter": {
    "hash": "8af9ad7548836a0a62ae078825fd815a40e250b6c42b6752f16c38da6216742c"
   }
  }
 },
 "nbformat": 4,
 "nbformat_minor": 2
}
